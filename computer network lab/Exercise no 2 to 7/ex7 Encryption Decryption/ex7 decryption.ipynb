{
 "cells": [
  {
   "cell_type": "code",
   "execution_count": 5,
   "id": "d4d685dc",
   "metadata": {},
   "outputs": [
    {
     "name": "stdout",
     "output_type": "stream",
     "text": [
      "enter string: erreqepem\n",
      "enter shift number: 4\n",
      "original string:  erreqepem\n",
      "after encryption:  annamalai\n"
     ]
    }
   ],
   "source": [
    "def encrypt(string, shift):\n",
    "    cipher =''\n",
    "    for char in string:\n",
    "        if char =='':\n",
    "            cipher = cipher + char\n",
    "        elif char.isupper():\n",
    "            cipher = cipher + chr((ord(char) - shift - 65) % 26 + 65)\n",
    "        else:\n",
    "            cipher = cipher + chr((ord(char) -shift - 97) % 26 + 97)\n",
    "    return cipher\n",
    "text = input(\"enter string: \")\n",
    "s = int(input(\"enter shift number: \"))\n",
    "print(\"original string: \", text)\n",
    "print(\"after encryption: \", encrypt(text, s))"
   ]
  },
  {
   "cell_type": "code",
   "execution_count": null,
   "id": "3dbd2b96",
   "metadata": {},
   "outputs": [],
   "source": []
  }
 ],
 "metadata": {
  "kernelspec": {
   "display_name": "Python 3",
   "language": "python",
   "name": "python3"
  },
  "language_info": {
   "codemirror_mode": {
    "name": "ipython",
    "version": 3
   },
   "file_extension": ".py",
   "mimetype": "text/x-python",
   "name": "python",
   "nbconvert_exporter": "python",
   "pygments_lexer": "ipython3",
   "version": "3.8.8"
  }
 },
 "nbformat": 4,
 "nbformat_minor": 5
}
