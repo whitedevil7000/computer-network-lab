{
 "cells": [
  {
   "cell_type": "code",
   "execution_count": 3,
   "id": "019f088d",
   "metadata": {},
   "outputs": [
    {
     "name": "stdout",
     "output_type": "stream",
     "text": [
      "<!doctype html>\n",
      "<html>\n",
      "<head>\n",
      "<title>Example Domain</title>\n",
      "\n",
      "<meta charset=\"utf-8\" />\n",
      "<meta http-equiv=\"Content-type\" content=\"text/html; charset=utf-8\" />\n",
      "<meta name=\"viewport\" content=\"width=device-width, initial-scale=1\" />\n",
      "<style type=\"text/css\">\n",
      "body {\n",
      "background-color: #f0f0f2;\n",
      "margin: 0;\n",
      "padding: 0;\n",
      "font-family: -apple-system, system-ui, BlinkMacSystemFont, \"Segoe UI\", \"Open Sans\", \"Helvetica Neue\", Helvetica, Arial, sans-serif;\n",
      "\n",
      "}\n",
      "div {\n",
      "width: 600px;\n",
      "margin: 5em auto;\n",
      "padding: 2em;\n",
      "background-color: #fdfdff;\n",
      "border-radius: 0.5em;\n",
      "box-shadow: 2px 3px 7px 2px rgba(0,0,0,0.02);\n",
      "}\n",
      "a:link, a:visited {\n",
      "color: #38488f;\n",
      "text-decoration: none;\n",
      "}\n",
      "@media (max-width: 700px) {\n",
      "div {\n",
      "margin: 0 auto;\n",
      "width: auto;\n",
      "}\n",
      "}\n",
      "</style>\n",
      "</head>\n",
      "\n",
      "<body>\n",
      "<div>\n",
      "<h1>Example Domain</h1>\n",
      "<p>This domain is for use in illustrative examples in documents. You may use this\n",
      "domain in literature without prior coordination or asking for permission.</p>\n",
      "<p><a href=\"https://www.iana.org/domains/example\">More information...</a></p>\n",
      "</div>\n",
      "</body>\n",
      "</html>\n"
     ]
    }
   ],
   "source": [
    "import urllib.request\n",
    "urllib.request.urlretrieve (\"http://www.example.org/\", \"webpage.html\")\n",
    "# read local file\n",
    "for line in open('webpage.html'): print(line.strip())"
   ]
  },
  {
   "cell_type": "code",
   "execution_count": null,
   "id": "3546c3d4",
   "metadata": {},
   "outputs": [],
   "source": []
  },
  {
   "cell_type": "code",
   "execution_count": null,
   "id": "c2840612",
   "metadata": {},
   "outputs": [],
   "source": []
  }
 ],
 "metadata": {
  "kernelspec": {
   "display_name": "Python 3",
   "language": "python",
   "name": "python3"
  },
  "language_info": {
   "codemirror_mode": {
    "name": "ipython",
    "version": 3
   },
   "file_extension": ".py",
   "mimetype": "text/x-python",
   "name": "python",
   "nbconvert_exporter": "python",
   "pygments_lexer": "ipython3",
   "version": "3.8.8"
  }
 },
 "nbformat": 4,
 "nbformat_minor": 5
}
