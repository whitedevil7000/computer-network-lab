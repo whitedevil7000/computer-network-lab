{
 "cells": [
  {
   "cell_type": "code",
   "execution_count": null,
   "metadata": {},
   "outputs": [],
   "source": [
    "import socket\n",
    "import wmi\n",
    "UDP_IP = \"localhost\"\n",
    "UDP_PORT = 8080\n",
    "sock = socket.socket(socket.AF_INET, socket.SOCK_DGRAM)\n",
    "sock.bind((UDP_IP, UDP_PORT))\n",
    " \n",
    "data, addr = sock.recvfrom(1024)\n",
    "str=data.decode(\"utf-8\")\n",
    "print (\"Received message:\", str)\n",
    "print(\" opening \", str)\n",
    "conn = wmi.WMI()\n",
    "pid, returnval= conn.Win32_Process.Create(CommandLine=str)"
   ]
  },
  {
   "cell_type": "code",
   "execution_count": null,
   "metadata": {},
   "outputs": [],
   "source": []
  }
 ],
 "metadata": {
  "kernelspec": {
   "display_name": "Python 3",
   "language": "python",
   "name": "python3"
  },
  "language_info": {
   "codemirror_mode": {
    "name": "ipython",
    "version": 3
   },
   "file_extension": ".py",
   "mimetype": "text/x-python",
   "name": "python",
   "nbconvert_exporter": "python",
   "pygments_lexer": "ipython3",
   "version": "3.8.5"
  }
 },
 "nbformat": 4,
 "nbformat_minor": 4
}
