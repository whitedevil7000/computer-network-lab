{
 "cells": [
  {
   "cell_type": "code",
   "execution_count": 1,
   "metadata": {},
   "outputs": [
    {
     "name": "stdout",
     "output_type": "stream",
     "text": [
      "type bye to terminate\n",
      " -> hyyyk\n",
      "Received from server: poda venna\n",
      " -> uyygygg ppuuubbbhjhuh\n",
      "Received from server: ok bye\n",
      " -> ok bye\n",
      "Received from server: bye\n",
      " -> bye\n"
     ]
    }
   ],
   "source": [
    "import socket\n",
    "def client_program():\n",
    "    print('type bye to terminate')\n",
    "    host = socket.gethostname()\n",
    "    port = 5000 \n",
    "    client_socket = socket.socket()\n",
    "    client_socket.connect((host, port))\n",
    "    message = input(\" -> \")\n",
    "    while message.lower().strip() != 'bye':\n",
    "        client_socket.send(message.encode()) \n",
    "        data = client_socket.recv(1024).decode() \n",
    "        print('Received from server: ' + data)\n",
    "        message = input(\" -> \") \n",
    "    client_socket.close() \n",
    "if __name__ == '__main__':\n",
    "    client_program()"
   ]
  },
  {
   "cell_type": "code",
   "execution_count": null,
   "metadata": {},
   "outputs": [],
   "source": []
  }
 ],
 "metadata": {
  "kernelspec": {
   "display_name": "Python 3",
   "language": "python",
   "name": "python3"
  },
  "language_info": {
   "codemirror_mode": {
    "name": "ipython",
    "version": 3
   },
   "file_extension": ".py",
   "mimetype": "text/x-python",
   "name": "python",
   "nbconvert_exporter": "python",
   "pygments_lexer": "ipython3",
   "version": "3.8.8"
  }
 },
 "nbformat": 4,
 "nbformat_minor": 4
}
