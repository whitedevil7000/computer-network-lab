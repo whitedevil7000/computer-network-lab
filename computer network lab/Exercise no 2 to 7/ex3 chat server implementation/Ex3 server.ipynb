{
 "cells": [
  {
   "cell_type": "code",
   "execution_count": 1,
   "metadata": {},
   "outputs": [
    {
     "name": "stdout",
     "output_type": "stream",
     "text": [
      "from connected user: hyyyk\n",
      " -> poda venna\n",
      "from connected user: uyygygg ppuuubbbhjhuh\n",
      " -> ok bye\n",
      "from connected user: ok bye\n",
      " -> bye\n"
     ]
    }
   ],
   "source": [
    "import socket\n",
    "def server_program():\n",
    "    host = socket.gethostname()\n",
    "    port = 5000 \n",
    "    server_socket = socket.socket()\n",
    "    server_socket.bind((host, port))\n",
    "    server_socket.listen(2)\n",
    "    conn, address = server_socket.accept()\n",
    "    while True:\n",
    "        data = conn.recv(1024).decode()\n",
    "        if not data:\n",
    "            break\n",
    "        print(\"from connected user: \" + str(data))\n",
    "        data = input(' -> ')\n",
    "        conn.send(data.encode())\n",
    "    conn.close()\n",
    "if __name__ == '__main__':\n",
    "    server_program()\n"
   ]
  },
  {
   "cell_type": "code",
   "execution_count": null,
   "metadata": {},
   "outputs": [],
   "source": []
  }
 ],
 "metadata": {
  "kernelspec": {
   "display_name": "Python 3",
   "language": "python",
   "name": "python3"
  },
  "language_info": {
   "codemirror_mode": {
    "name": "ipython",
    "version": 3
   },
   "file_extension": ".py",
   "mimetype": "text/x-python",
   "name": "python",
   "nbconvert_exporter": "python",
   "pygments_lexer": "ipython3",
   "version": "3.8.8"
  }
 },
 "nbformat": 4,
 "nbformat_minor": 4
}
