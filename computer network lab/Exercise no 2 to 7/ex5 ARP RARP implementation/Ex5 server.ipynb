{
 "cells": [
  {
   "cell_type": "code",
   "execution_count": 2,
   "metadata": {},
   "outputs": [
    {
     "name": "stdout",
     "output_type": "stream",
     "text": [
      "Received message: 172.16.1.8\n",
      "the MAC address is:  8A:BC:E3:FA\n"
     ]
    }
   ],
   "source": [
    "import socket\n",
    "UDP_IP = \"localhost\"\n",
    "UDP_PORT = 8080\n",
    "sock = socket.socket(socket.AF_INET, socket.SOCK_DGRAM) \n",
    "sock.bind((UDP_IP, UDP_PORT))\n",
    "ip=[\"172.16.1.9\",\"172.16.1.8\"]\n",
    "mac=[\"6A:08:AA:C2\",\"8A:BC:E3:FA\"]\n",
    "while True:\n",
    " \n",
    "    data, addr = sock.recvfrom(1024)\n",
    "    str1 = data.decode('utf-8')\n",
    "    l = len(data)\n",
    "    if l != 0:\n",
    "        print(\"Received message:\", str1)\n",
    "    break\n",
    "for x in ip:\n",
    "    if str1 in x:\n",
    "        ind=ip.index(str1)\n",
    "print(\"the MAC address is: \",mac[ind])\n"
   ]
  },
  {
   "cell_type": "code",
   "execution_count": null,
   "metadata": {},
   "outputs": [],
   "source": []
  }
 ],
 "metadata": {
  "kernelspec": {
   "display_name": "Python 3",
   "language": "python",
   "name": "python3"
  },
  "language_info": {
   "codemirror_mode": {
    "name": "ipython",
    "version": 3
   },
   "file_extension": ".py",
   "mimetype": "text/x-python",
   "name": "python",
   "nbconvert_exporter": "python",
   "pygments_lexer": "ipython3",
   "version": "3.8.8"
  }
 },
 "nbformat": 4,
 "nbformat_minor": 4
}
